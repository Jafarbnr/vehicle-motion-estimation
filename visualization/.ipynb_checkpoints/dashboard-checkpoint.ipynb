
{
 "cells": [
  {
   "cell_type": "code",
   "execution_count": null,
   "id": "setup",
   "metadata": {},
   "outputs": [],
   "source": [
    "import numpy as np\n",
    "import matplotlib.pyplot as plt\n",
    "from simulations.models.vehicle_model import simulate_vehicle_dynamics\n",
    "from simulations.sensors.gps_sim import simulate_gps\n",
    "from simulations.sensors.imu_sim import simulate_imu\n",
    "from simulations.sensors.wheel_speed_sim import simulate_wheel_speed\n",
    "from estimator.kalman_filter import KalmanFilter1D"
   ]
  },
  {
   "cell_type": "code",
   "execution_count": null,
   "id": "simulate",
   "metadata": {},
   "outputs": [],
   "source": [
    "# Simulate vehicle\n",
    "states = simulate_vehicle_dynamics(t=10, dt=0.1)\n",
    "gps = simulate_gps(states)\n",
    "imu_acc, imu_gyro = simulate_imu(states)\n",
    "wheel_speed = simulate_wheel_speed(states)"
   ]
  },
  {
   "cell_type": "code",
   "execution_count": null,
   "id": "plot",
   "metadata": {},
   "outputs": [],
   "source": [
    "# Plot results\n",
    "plt.figure(figsize=(10, 6))\n",
    "plt.plot(states[:,0], states[:,1], label='True Trajectory')\n",
    "plt.scatter(gps[:,0], gps[:,1], s=10, alpha=0.5, label='GPS')\n",
    "plt.title('Vehicle Trajectory')\n",
    "plt.xlabel('X [m]')\n",
    "plt.ylabel('Y [m]')\n",
    "plt.legend()\n",
    "plt.grid()\n",
    "plt.show()"
   ]
  }
 ],
 "metadata": {
  "kernelspec": {
   "display_name": "Python 3",
   "language": "python",
   "name": "python3"
  },
  "language_info": {
   "name": "python",
   "version": ""
  }
 },
 "nbformat": 4,
 "nbformat_minor": 5
}
